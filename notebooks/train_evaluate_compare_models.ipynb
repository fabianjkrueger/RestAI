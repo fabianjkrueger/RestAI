{
 "cells": [
  {
   "cell_type": "code",
   "execution_count": 34,
   "metadata": {},
   "outputs": [],
   "source": [
    "# dependencies\n",
    "import pandas as pd\n",
    "from pathlib import Path\n",
    "\n",
    "from sklearn.tree import DecisionTreeRegressor\n",
    "\n",
    "from sklearn.ensemble import RandomForestRegressor\n",
    "from sklearn.ensemble import ExtraTreesRegressor\n",
    "\n",
    "from sklearn.metrics import root_mean_squared_error\n",
    "\n",
    "# paths\n",
    "PATH_DATA = Path(\"../data/processed/main/\")"
   ]
  },
  {
   "cell_type": "code",
   "execution_count": 35,
   "metadata": {},
   "outputs": [],
   "source": [
    "# load data\n",
    "\n",
    "# train data\n",
    "X_train = pd.read_csv(PATH_DATA / \"sleep_data_main_train_features.csv\")\n",
    "y_train = pd.read_csv(PATH_DATA / \"sleep_data_main_train_labels.csv\")\n",
    "\n",
    "# validation data\n",
    "X_val = pd.read_csv(PATH_DATA / \"sleep_data_main_val_features.csv\")\n",
    "y_val = pd.read_csv(PATH_DATA / \"sleep_data_main_val_labels.csv\")\n",
    "\n",
    "# test data\n",
    "X_test = pd.read_csv(PATH_DATA / \"sleep_data_main_test_features.csv\")\n",
    "y_test = pd.read_csv(PATH_DATA / \"sleep_data_main_test_labels.csv\")\n"
   ]
  },
  {
   "cell_type": "code",
   "execution_count": 40,
   "metadata": {},
   "outputs": [],
   "source": [
    "# function for training a rf regressor and evaluating it using RMSE as metric\n",
    "def train_evaluate_rf(n_estimators, X_t=X_train, y_t=y_train, X_v=X_val, y_v=y_val):\n",
    "    # convert y to 1d array\n",
    "    y_t = y_t.squeeze()\n",
    "    y_v = y_v.squeeze()\n",
    "\n",
    "    model = RandomForestRegressor(n_estimators=n_estimators,\n",
    "                                random_state=1337,\n",
    "                                n_jobs=-1)\n",
    "    model.fit(X_t, y_t)\n",
    "    y_p = model.predict(X_v)\n",
    "    rmse = root_mean_squared_error(y_v, y_p)\n",
    "    rmse = round(rmse, 3)\n",
    "    \n",
    "    return rmse"
   ]
  },
  {
   "cell_type": "code",
   "execution_count": 54,
   "metadata": {},
   "outputs": [
    {
     "data": {
      "text/plain": [
       "np.float64(0.351)"
      ]
     },
     "execution_count": 54,
     "metadata": {},
     "output_type": "execute_result"
    }
   ],
   "source": [
    "# run some first tests\n",
    "train_evaluate_rf(30)"
   ]
  }
 ],
 "metadata": {
  "kernelspec": {
   "display_name": "RestAI",
   "language": "python",
   "name": "python3"
  },
  "language_info": {
   "codemirror_mode": {
    "name": "ipython",
    "version": 3
   },
   "file_extension": ".py",
   "mimetype": "text/x-python",
   "name": "python",
   "nbconvert_exporter": "python",
   "pygments_lexer": "ipython3",
   "version": "3.13.0"
  }
 },
 "nbformat": 4,
 "nbformat_minor": 2
}
