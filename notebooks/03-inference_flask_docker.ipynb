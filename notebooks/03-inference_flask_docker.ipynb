{
 "cells": [
  {
   "cell_type": "markdown",
   "metadata": {},
   "source": [
    "# Model Inference\n",
    "\n",
    "Here, I show how the model can be used. This works if the model is deployed\n",
    "using flask as well as docker.\n",
    "Just choose one of both.\n",
    "To make this work, you first have to start the application.\n",
    "Make sure your current working\n",
    "directory is the base directory of this repository: `RestAI/`.\n",
    "Now run one of the two provided commands.\n",
    "Then you can query the model using the\n",
    "code in this notebook.\n",
    "\n",
    "## Flask\n",
    "\n",
    "```bash\n",
    "# start application\n",
    "python scripts/predict.py\n",
    "```\n",
    "\n",
    "## Docker\n",
    "\n",
    "```bash\n",
    "# build the image\n",
    "docker build -t restai .\n",
    "\n",
    "# Run the container\n",
    "# -p maps host port to container port (host:container)\n",
    "docker run -p 9696:9696 restai\n",
    "# if that doesn't work (may happen if you use bash instead of zsh, run:)\n",
    "# docker run -p 9696::9696 restai\n",
    "```\n",
    "\n",
    "## Preparations"
   ]
  },
  {
   "cell_type": "code",
   "execution_count": 3,
   "metadata": {},
   "outputs": [],
   "source": [
    "# dependencies\n",
    "import requests\n",
    "import pandas as pd\n",
    "from flask import jsonify\n",
    "\n",
    "# API endpoints\n",
    "url_transformed = \"http://localhost:9696/predict_transformed\"\n",
    "url_untransformed = \"http://localhost:9696/predict_untransformed\""
   ]
  },
  {
   "cell_type": "markdown",
   "metadata": {},
   "source": [
    "## Transformed Data\n",
    "Here, transformed means encoded and scaled already."
   ]
  },
  {
   "cell_type": "code",
   "execution_count": 4,
   "metadata": {},
   "outputs": [
    {
     "data": {
      "text/plain": [
       "{'age': 1.0,\n",
       " 'bedtime': 0.4519929453262786,\n",
       " 'caffeine_intake': 0.8,\n",
       " 'gender=female': 1.0,\n",
       " 'gender=male': 0.0,\n",
       " 'gender=other': 0.0,\n",
       " 'physical_activity': 0.075,\n",
       " 'screen_time': 0.4000000000000001,\n",
       " 'study_hours': 0.773109243697479,\n",
       " 'university_year=1st_Year': 0.0,\n",
       " 'university_year=2nd_Year': 0.0,\n",
       " 'university_year=3rd_Year': 1.0,\n",
       " 'university_year=4th_Year': 0.0,\n",
       " 'wakeup_time': 0.7607505863956217}"
      ]
     },
     "execution_count": 4,
     "metadata": {},
     "output_type": "execute_result"
    }
   ],
   "source": [
    "# load the test data\n",
    "X_test = pd.read_csv(\"../data/processed/main/sleep_data_main_test_features.csv\")\n",
    "\n",
    "# get one test case from test data\n",
    "testcase = pd.DataFrame(X_test.iloc[64]).T\n",
    "testcase\n",
    "\n",
    "# prepare test case (convert Series to plain dictionary)\n",
    "testcase_dict = testcase.to_dict(orient=\"records\")[0]\n",
    "\n",
    "testcase_dict"
   ]
  },
  {
   "cell_type": "code",
   "execution_count": 5,
   "metadata": {},
   "outputs": [
    {
     "name": "stdout",
     "output_type": "stream",
     "text": [
      "{'sleep_quality': [0.5280619344669989]}\n"
     ]
    }
   ],
   "source": [
    "# query the model and print response\n",
    "response = requests.post(url_transformed, json=testcase_dict)\n",
    "print(response.json())"
   ]
  },
  {
   "cell_type": "markdown",
   "metadata": {},
   "source": [
    "## Untransformed Data\n",
    "Here, untransformed means not yet encoded or scaled.\n",
    "For this, one hot encoding and scaling yet needs to be done.\n",
    "This is a more realistic use case."
   ]
  },
  {
   "cell_type": "code",
   "execution_count": 4,
   "metadata": {},
   "outputs": [
    {
     "data": {
      "text/plain": [
       "{'age': 19,\n",
       " 'bedtime': 0.5,\n",
       " 'caffeine_intake': 1,\n",
       " 'gender': 'male',\n",
       " 'physical_activity': 1,\n",
       " 'screen_time': 1,\n",
       " 'study_hours': 10,\n",
       " 'university_year': '2nd_year',\n",
       " 'wakeup_time': 1}"
      ]
     },
     "execution_count": 4,
     "metadata": {},
     "output_type": "execute_result"
    }
   ],
   "source": [
    "# construct an example\n",
    "testcase_untransformed = {\n",
    "    # columns in need of normalization\n",
    "        # problem: must be normalized same way as train data\n",
    "        \"age\": 19,\n",
    "        \"bedtime\": 0.5,\n",
    "        \"caffeine_intake\": 1,\n",
    "        \"gender\": \"male\",\n",
    "        \"physical_activity\": 1,\n",
    "        \"screen_time\": 1,\n",
    "        \"study_hours\": 10,\n",
    "        \"university_year\": \"2nd_year\",\n",
    "        \"wakeup_time\": 1\n",
    "    }\n",
    "\n",
    "# display testcase\n",
    "testcase_untransformed"
   ]
  },
  {
   "cell_type": "code",
   "execution_count": 5,
   "metadata": {},
   "outputs": [
    {
     "name": "stdout",
     "output_type": "stream",
     "text": [
      "{'sleep_quality': [0.4655126149946922]}\n"
     ]
    }
   ],
   "source": [
    "# query the model\n",
    "# one hot encoding and scaling are handled inside the predict function\n",
    "response = requests.post(url_untransformed, json=testcase_untransformed)\n",
    "print(response.json())"
   ]
  }
 ],
 "metadata": {
  "kernelspec": {
   "display_name": "RestAI",
   "language": "python",
   "name": "python3"
  },
  "language_info": {
   "codemirror_mode": {
    "name": "ipython",
    "version": 3
   },
   "file_extension": ".py",
   "mimetype": "text/x-python",
   "name": "python",
   "nbconvert_exporter": "python",
   "pygments_lexer": "ipython3",
   "version": "3.13.0"
  }
 },
 "nbformat": 4,
 "nbformat_minor": 2
}
